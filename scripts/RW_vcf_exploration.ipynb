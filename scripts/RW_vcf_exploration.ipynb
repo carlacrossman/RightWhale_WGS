{
 "cells": [
  {
   "cell_type": "code",
   "execution_count": 1,
   "id": "a799708c-e948-4871-810c-acf5385ff0c1",
   "metadata": {},
   "outputs": [
    {
     "name": "stderr",
     "output_type": "stream",
     "text": [
      "Warning message:\n",
      "\"package 'vcfR' was built under R version 3.6.3\"\n",
      "\n",
      "   *****       ***   vcfR   ***       *****\n",
      "   This is vcfR 1.12.0 \n",
      "     browseVignettes('vcfR') # Documentation\n",
      "     citation('vcfR') # Citation\n",
      "   *****       *****      *****       *****\n",
      "\n",
      "\n"
     ]
    }
   ],
   "source": [
    "########################################\n",
    "## Exploring RightWhale Variants\n",
    "##\n",
    "## This file will explore the vcf\n",
    "## files from NARW and SRW before\n",
    "## and after filtering\n",
    "##\n",
    "########################################\n",
    "\n",
    "###---Load Libraries---###\n",
    "\n",
    "library(vcfR)\n",
    "library(ggplot2)"
   ]
  },
  {
   "cell_type": "code",
   "execution_count": null,
   "id": "e781ec7b-e613-4c66-ae6d-c5c9c1b59515",
   "metadata": {},
   "outputs": [
    {
     "name": "stdout",
     "output_type": "stream",
     "text": [
      "Scanning file to determine attributes.\n",
      "File attributes:\n",
      "  meta lines: 64\n",
      "  header_line: 65\n",
      "  variant count: 5620253\n",
      "  column count: 21\n"
     ]
    }
   ],
   "source": [
    "###---Set Working Directory---###\n",
    "\n",
    "setwd(\"C:/Users/c_cro/Documents/PhD/RightWhale/WGS/vcf_exploration/\")\n",
    "\n",
    "###---Load Data Files---###\n",
    "\n",
    "narw_vcf <- read.vcfR(\"merged_narw_all_scaffold.vcf.gz\", verbose = TRUE)"
   ]
  },
  {
   "cell_type": "code",
   "execution_count": null,
   "id": "a23b6bd7-9365-4073-abcb-d7db2458c002",
   "metadata": {},
   "outputs": [],
   "source": [
    "###---Large Scale Data Overview---###\n",
    "\n",
    "chrom <- create.chromR(name='NARW_all', vcf=narw_vcf)\n",
    "plot(chrom)\n",
    "\n",
    "chrom_filtered <- masker(chrom, min_QUAL = 1, min_DP = 100, max_DP = 600, min_MQ = 59.5,  max_MQ = 60.1)\n",
    "plot(chrom_filtered)\n",
    "\n",
    "chromoqc(chrom_filtered, dp.alpha=20)"
   ]
  },
  {
   "cell_type": "code",
   "execution_count": null,
   "id": "3a0ce5cb-f84c-4cf2-9f07-e95246dad659",
   "metadata": {},
   "outputs": [],
   "source": [
    "###---Extract Relevant Genotype/Info Features---###\n",
    "\n",
    "narw_mq <- extract.info(narw_vcf, element=\"MQ\", as.numeric=TRUE)\n",
    "narw_dp <- extract.info(narw_vcf, element=\"DP\", as.numeric=TRUE)\n",
    "narw_qd <- extract.info(narw_vcf, element=\"QD\", as.numeric=TRUE)\n",
    "\n",
    "info_df <-data.frame(narw_mq,narw_dp,narw_qd)"
   ]
  },
  {
   "cell_type": "code",
   "execution_count": null,
   "id": "d7a97431-d486-4cd2-afd9-c8d4f8477386",
   "metadata": {},
   "outputs": [],
   "source": [
    "###---Plots---###\n",
    "\n",
    "ggplot(info_df, aes(x=narw_dp, y=narw_qd) ) +\n",
    "  geom_hex(bins = 70) +\n",
    "  scale_fill_viridis_c(option = \"magma\") +\n",
    "  xlim(0, 1000) +\n",
    "  theme_bw()\n",
    "\n",
    "ggplot(info_df, aes(x=narw_dp, y=narw_mq) ) +\n",
    "  geom_hex(bins = 100) +\n",
    "  scale_fill_viridis_c(option = \"magma\") +\n",
    "  xlim(0, 1000) +\n",
    "  theme_bw()\n",
    "\n",
    "is.na(narw_dp_persamp[na.omit(narw_dp_persamp == 0)]) <- TRUE\n",
    "heatmap.bp(narw_dp_persamp[3001:5000,])"
   ]
  }
 ],
 "metadata": {
  "kernelspec": {
   "display_name": "R",
   "language": "R",
   "name": "ir"
  },
  "language_info": {
   "codemirror_mode": "r",
   "file_extension": ".r",
   "mimetype": "text/x-r-source",
   "name": "R",
   "pygments_lexer": "r",
   "version": "3.6.0"
  }
 },
 "nbformat": 4,
 "nbformat_minor": 5
}

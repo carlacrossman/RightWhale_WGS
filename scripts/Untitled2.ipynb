{
 "cells": [
  {
   "cell_type": "markdown",
   "id": "c3c62d64-0aee-474d-9774-a08cae1e8742",
   "metadata": {},
   "source": [
    "## Exploring VCF with sckit-allel ##"
   ]
  },
  {
   "cell_type": "code",
   "execution_count": 3,
   "id": "b8537460-4815-4dbd-b9a8-a8d4386556e1",
   "metadata": {},
   "outputs": [
    {
     "name": "stdout",
     "output_type": "stream",
     "text": [
      "scikit-allel 1.3.5\n"
     ]
    }
   ],
   "source": [
    "# Import Libraries\n",
    "import numpy as np\n",
    "import scipy\n",
    "import pandas as pd\n",
    "import matplotlib as mpl\n",
    "import matplotlib.pyplot as plt\n",
    "%matplotlib inline\n",
    "import seaborn as sns\n",
    "sns.set_style('white')\n",
    "sns.set_style('ticks')\n",
    "sns.set_context('notebook')\n",
    "import h5py\n",
    "# pip install scikit-allel\n",
    "import allel; print('scikit-allel', allel.__version__)"
   ]
  },
  {
   "cell_type": "code",
   "execution_count": null,
   "id": "34c4aa52-e8f8-4d32-a957-2d333e8a4e48",
   "metadata": {},
   "outputs": [],
   "source": [
    "narw_vcf = allel.read_vcf('C:/Users/c_cro/Documents/PhD/RightWhale/WGS/vcf_exploration/merged_narw_all_scaffold.vcf.gz', fields=['variants/*','calldata/*'])"
   ]
  },
  {
   "cell_type": "code",
   "execution_count": null,
   "id": "086474d6-1d12-4360-b51a-bbf4d703b9f3",
   "metadata": {},
   "outputs": [],
   "source": [
    "narw_hdf5 = allel.vcf_to_hdf5('C:/Users/c_cro/Documents/PhD/RightWhale/WGS/vcf_exploration/merged_narw_all_scaffold.vcf.gz', \n",
    "                              'C:/Users/c_cro/Documents/PhD/RightWhale/WGS/vcf_exploration/narw_hdf5_test',\n",
    "                              fields=['variants/*','calldata/*'])"
   ]
  },
  {
   "cell_type": "code",
   "execution_count": null,
   "id": "7aa49cda-522d-4b9a-9586-6fa4204016ef",
   "metadata": {},
   "outputs": [],
   "source": [
    "masked_narw_hdf5 = allel.vcf_to_hdf5('C:/Users/c_cro/Documents/PhD/RightWhale/WGS/vcf_exploration/out.vcf.gz', \n",
    "                              'C:/Users/c_cro/Documents/PhD/RightWhale/WGS/vcf_exploration/masked_narw_hdf5_test',\n",
    "                              fields=['variants/*','calldata/*'])"
   ]
  },
  {
   "cell_type": "code",
   "execution_count": 4,
   "id": "4ff02b1a-3531-4b41-9fd3-734cce7da1c5",
   "metadata": {},
   "outputs": [
    {
     "data": {
      "text/plain": [
       "<HDF5 file \"masked_narw_hdf5_test\" (mode r)>"
      ]
     },
     "execution_count": 4,
     "metadata": {},
     "output_type": "execute_result"
    }
   ],
   "source": [
    "callset = h5py.File('C:/Users/c_cro/Documents/PhD/RightWhale/WGS/vcf_exploration/narw_hdf5_test', mode='r')\n",
    "callset\n",
    "masked_callset = h5py.File('C:/Users/c_cro/Documents/PhD/RightWhale/WGS/vcf_exploration/masked_narw_hdf5_test', mode='r')\n",
    "masked_callset"
   ]
  },
  {
   "cell_type": "code",
   "execution_count": 6,
   "id": "8a2c9fe7-4ac6-4410-96ab-c2e7ed75121d",
   "metadata": {},
   "outputs": [
    {
     "data": {
      "text/html": [
       "<div class=\"allel allel-DisplayAsTable\"><span>&lt;VariantChunkedTable shape=(5620253,) dtype=[('POS', '&lt;i4'), ('REF', 'O'), ('ALT', 'O', (3,)), ('DP', '&lt;i4'), ('MQ', '&lt;f4'), ('QD', '&lt;f4'), ('AF', '&lt;f4', (3,)), ('AN', '&lt;i4')]\n",
       "   nbytes=343.0M cbytes=95.3M cratio=3.6\n",
       "   values=h5py._hl.group.Group&gt;</span><table><thead><tr><th></th><th style=\"text-align: center\">POS</th><th style=\"text-align: center\">REF</th><th style=\"text-align: center\">ALT</th><th style=\"text-align: center\">DP</th><th style=\"text-align: center\">MQ</th><th style=\"text-align: center\">QD</th><th style=\"text-align: center\">AF</th><th style=\"text-align: center\">AN</th></tr></thead><tbody><tr><th style=\"text-align: center; background-color: white; border-right: 1px solid black; \">0</th><td style=\"text-align: center\">47</td><td style=\"text-align: center\">G</td><td style=\"text-align: center\">['C' '' '']</td><td style=\"text-align: center\">1009</td><td style=\"text-align: center\">58.08</td><td style=\"text-align: center\">16.86</td><td style=\"text-align: center\">[0.5 nan nan]</td><td style=\"text-align: center\">24</td></tr><tr><th style=\"text-align: center; background-color: white; border-right: 1px solid black; \">1</th><td style=\"text-align: center\">60</td><td style=\"text-align: center\">G</td><td style=\"text-align: center\">['A' '' '']</td><td style=\"text-align: center\">1170</td><td style=\"text-align: center\">58.3</td><td style=\"text-align: center\">6.5</td><td style=\"text-align: center\">[0.5 nan nan]</td><td style=\"text-align: center\">24</td></tr><tr><th style=\"text-align: center; background-color: white; border-right: 1px solid black; \">2</th><td style=\"text-align: center\">104</td><td style=\"text-align: center\">T</td><td style=\"text-align: center\">['C' '' '']</td><td style=\"text-align: center\">1667</td><td style=\"text-align: center\">58.91</td><td style=\"text-align: center\">4.86</td><td style=\"text-align: center\">[0.5 nan nan]</td><td style=\"text-align: center\">24</td></tr><tr><th style=\"text-align: center; background-color: white; border-right: 1px solid black; \">...</th><td style=\"text-align: center\" colspan=\"9\">...</td></tr><tr><th style=\"text-align: center; background-color: white; border-right: 1px solid black; \">5620250</th><td style=\"text-align: center\">562160</td><td style=\"text-align: center\">C</td><td style=\"text-align: center\">['T' '' '']</td><td style=\"text-align: center\">289</td><td style=\"text-align: center\">52.55</td><td style=\"text-align: center\">13.88</td><td style=\"text-align: center\">[0.125   nan   nan]</td><td style=\"text-align: center\">24</td></tr><tr><th style=\"text-align: center; background-color: white; border-right: 1px solid black; \">5620251</th><td style=\"text-align: center\">1100108</td><td style=\"text-align: center\">T</td><td style=\"text-align: center\">['C' '' '']</td><td style=\"text-align: center\">36</td><td style=\"text-align: center\">40.0</td><td style=\"text-align: center\">15.0</td><td style=\"text-align: center\">[0.042   nan   nan]</td><td style=\"text-align: center\">24</td></tr><tr><th style=\"text-align: center; background-color: white; border-right: 1px solid black; \">5620252</th><td style=\"text-align: center\">1100538</td><td style=\"text-align: center\">T</td><td style=\"text-align: center\">['TA' '' '']</td><td style=\"text-align: center\">480</td><td style=\"text-align: center\">53.4</td><td style=\"text-align: center\">10.57</td><td style=\"text-align: center\">[0.042   nan   nan]</td><td style=\"text-align: center\">24</td></tr></tbody></table></div>"
      ],
      "text/plain": [
       "<VariantChunkedTable shape=(5620253,) dtype=[('POS', '<i4'), ('REF', 'O'), ('ALT', 'O', (3,)), ('DP', '<i4'), ('MQ', '<f4'), ('QD', '<f4'), ('AF', '<f4', (3,)), ('AN', '<i4')]\n",
       "   nbytes=343.0M cbytes=95.3M cratio=3.6\n",
       "   values=h5py._hl.group.Group>"
      ]
     },
     "execution_count": 6,
     "metadata": {},
     "output_type": "execute_result"
    }
   ],
   "source": [
    "variants = allel.VariantChunkedTable(callset['variants'],\n",
    "            names=['POS', 'REF', 'ALT', 'DP', 'MQ', 'QD','AF','AN'])\n",
    "variants"
   ]
  },
  {
   "cell_type": "code",
   "execution_count": 7,
   "id": "d9f42e5d-ea54-4de7-9c6f-39d27c8e5655",
   "metadata": {},
   "outputs": [
    {
     "data": {
      "text/plain": [
       "array([1009, 1170, 1667, ...,  289,   36,  480])"
      ]
     },
     "execution_count": 7,
     "metadata": {},
     "output_type": "execute_result"
    }
   ],
   "source": [
    "dp=variants['DP'][:]\n",
    "dp"
   ]
  },
  {
   "cell_type": "code",
   "execution_count": 8,
   "id": "fe8f25f8-d290-46b3-92bc-1c4e5ba7864e",
   "metadata": {},
   "outputs": [
    {
     "name": "stdout",
     "output_type": "stream",
     "text": [
      "<class 'numpy.ndarray'>\n"
     ]
    }
   ],
   "source": [
    "qd=variants['QD'][:]\n",
    "print(type(qd))"
   ]
  },
  {
   "cell_type": "code",
   "execution_count": 9,
   "id": "dd4ad26c-b7d1-439a-b51d-9aa658ede47d",
   "metadata": {},
   "outputs": [],
   "source": [
    "mq=variants['MQ'][:]"
   ]
  },
  {
   "cell_type": "code",
   "execution_count": 10,
   "id": "8d282965-cd54-4140-9a13-c0f8cb7359b2",
   "metadata": {},
   "outputs": [
    {
     "data": {
      "text/plain": [
       "array([     47,      60,     104, ...,  562160, 1100108, 1100538])"
      ]
     },
     "execution_count": 10,
     "metadata": {},
     "output_type": "execute_result"
    }
   ],
   "source": [
    "pos = variants['POS'][:]\n",
    "pos"
   ]
  },
  {
   "cell_type": "code",
   "execution_count": 9,
   "id": "6e0ec7ac-77e3-4cea-95e0-247e427c6af7",
   "metadata": {},
   "outputs": [],
   "source": [
    "AD = allel.VariantChunkedTable(callset['calldata'],\n",
    "            names=['AD'])\n",
    "test_AD = np.transpose(np.transpose(AD[0:1][0][0])[0:2])"
   ]
  },
  {
   "cell_type": "code",
   "execution_count": null,
   "id": "39edf59c-7f9f-4cff-8d9b-9086e3f3550c",
   "metadata": {
    "tags": []
   },
   "outputs": [],
   "source": [
    "ad_split = np.hsplit(test_AD,2)\n",
    "ad_split[0][0]\n",
    "ad_split[1][0]\n",
    "\n",
    "elemnt 1 divided by the sum of these. Repeat for 12 elements, repeat for all rows."
   ]
  },
  {
   "cell_type": "code",
   "execution_count": null,
   "id": "54276972-dd11-40db-b08e-4d8ed1ebd2a1",
   "metadata": {},
   "outputs": [],
   "source": [
    "af = variants['AF'][:]\n",
    "af_trim = [item[0] for item in af]\n",
    "af_trim[0:3]"
   ]
  },
  {
   "cell_type": "code",
   "execution_count": null,
   "id": "6dd942c0-7167-49b2-b226-a93873ea0417",
   "metadata": {},
   "outputs": [],
   "source": [
    "print(type(af_trim))\n",
    "df_af = pd.DataFrame(af_trim)\n",
    "df_af.to_csv(\"df_af.csv\", index=False)"
   ]
  },
  {
   "cell_type": "code",
   "execution_count": null,
   "id": "6603c557-3f22-48a0-8057-05284276410c",
   "metadata": {},
   "outputs": [],
   "source": [
    "my_array = np.array([dp,mq,qd,pos,af_trim])\n",
    "info_rw = pd.DataFrame(my_array)\n",
    "rw = info_rw.transpose()\n",
    "rw.columns=[\"dp\",\"mq\",\"qd\",\"pos\",\"af\"]\n",
    "print(type(info_rw))"
   ]
  },
  {
   "cell_type": "code",
   "execution_count": 11,
   "id": "0cc143aa-3294-41a7-80a6-71d700a099fa",
   "metadata": {},
   "outputs": [],
   "source": [
    "def plot_windowed_variant_density(pos, window_size, title=None):\n",
    "    \n",
    "    # setup windows \n",
    "    bins = np.arange(0, pos.max(), window_size)\n",
    "    \n",
    "    # use window midpoints as x coordinate\n",
    "    x = (bins[1:] + bins[:-1])/2\n",
    "    \n",
    "    # compute variant density in each window\n",
    "    h, _ = np.histogram(pos, bins=bins)\n",
    "    y = h / window_size\n",
    "    \n",
    "    # plot\n",
    "    fig, ax = plt.subplots(figsize=(12, 3))\n",
    "    sns.despine(ax=ax, offset=10)\n",
    "    ax.plot(x, y)\n",
    "    ax.set_xlabel('Chromosome position (bp)')\n",
    "    ax.set_ylabel('Variant density (bp$^{-1}$)')\n",
    "    if title:\n",
    "        ax.set_title(title)"
   ]
  },
  {
   "cell_type": "code",
   "execution_count": 12,
   "id": "d10c1169-19fa-410c-8a12-3e42878d5eaf",
   "metadata": {},
   "outputs": [
    {
     "data": {
      "image/png": "[encoded data removed]",
      "text/plain": [
       "<Figure size 864x216 with 1 Axes>"
      ]
     },
     "metadata": {},
     "output_type": "display_data"
    }
   ],
   "source": [
    "plot_windowed_variant_density(pos, window_size=100000, title='Raw variant density')"
   ]
  },
  {
   "cell_type": "markdown",
   "id": "5a3f8647-3d82-49a7-b5c3-30f2b117dcb1",
   "metadata": {
    "tags": []
   },
   "source": [
    "## To run in R ##"
   ]
  },
  {
   "cell_type": "code",
   "execution_count": null,
   "id": "b7bc1e3e-6c90-41da-b5e1-f8337b364dc0",
   "metadata": {},
   "outputs": [],
   "source": [
    "fig, ax = plt.subplots() # Create the figure and axes object\n",
    "\n",
    "# Plot the first x and y axes:\n",
    "rw.plot(x = 'pos', y = 'dp', ax = ax) \n",
    "# Plot the second x and y axes. By secondary_y = True a second y-axis is requested:\n",
    "# (see https://pandas.pydata.org/pandas-docs/stable/reference/api/pandas.DataFrame.plot.html for details)\n",
    "rw.plot(x = 'pos', y = 'mq', ax = ax, secondary_y = True) "
   ]
  },
  {
   "cell_type": "code",
   "execution_count": null,
   "id": "71415965-da21-4d7e-b622-1e911fa942fd",
   "metadata": {},
   "outputs": [],
   "source": [
    "fig, ax = plt.subplots() # Create the figure and axes object\n",
    "\n",
    "# Plot the first x and y axes:\n",
    "rw.plot(x = 'pos', y = 'dp', ax = ax) "
   ]
  },
  {
   "cell_type": "code",
   "execution_count": null,
   "id": "cd9f9fe2-28a4-470c-92c9-8d86384d7079",
   "metadata": {},
   "outputs": [],
   "source": [
    "print(\"depth std dev =\", dp.std())\n",
    "print(\"depth mean =\", dp.mean())\n",
    "print(\"depth max to keep =\", dp.mean()+dp.std()+dp.std())"
   ]
  },
  {
   "cell_type": "code",
   "execution_count": null,
   "id": "0b390608-6f45-4bf1-ad99-80044fb31455",
   "metadata": {},
   "outputs": [],
   "source": []
  },
  {
   "cell_type": "code",
   "execution_count": null,
   "id": "7babf046-1258-4f81-bf41-0ae3dc5b0fdb",
   "metadata": {},
   "outputs": [],
   "source": [
    "masked_variants = allel.VariantChunkedTable(masked_callset['variants'],\n",
    "            names=['POS', 'REF', 'ALT', 'DP', 'MQ', 'QD','AF','AN'])\n",
    "masked_dp=masked_variants['DP'][:]\n",
    "masked_mq=masked_variants['MQ'][:]\n",
    "masked_qd=masked_variants['QD'][:]\n",
    "masked_pos=masked_variants['POS'][:]"
   ]
  },
  {
   "cell_type": "code",
   "execution_count": null,
   "id": "3c7ae08d-0e35-440b-8233-46c3763e53a9",
   "metadata": {},
   "outputs": [],
   "source": [
    "masked_array = np.array([masked_dp,masked_mq,masked_qd,masked_pos])\n",
    "masked_rw = pd.DataFrame(masked_array)\n",
    "rw_masked = masked_rw.transpose()\n",
    "rw_masked.columns=[\"masked_dp\",\"masked_mq\",\"masked_qd\",\"masked_pos\"]\n",
    "print(type(masked_rw))"
   ]
  },
  {
   "cell_type": "code",
   "execution_count": null,
   "id": "f5d20c83-0bcd-4b4c-914f-3c1376fd5f53",
   "metadata": {},
   "outputs": [],
   "source": [
    "fig, ax = plt.subplots() # Create the figure and axes object\n",
    "\n",
    "# Plot the first x and y axes:\n",
    "rw_masked.plot(x = 'masked_pos', y = 'masked_dp', ax = ax) "
   ]
  },
  {
   "cell_type": "code",
   "execution_count": null,
   "id": "1eefe729-f7fd-4bd2-bebc-a06a59762c86",
   "metadata": {
    "tags": []
   },
   "outputs": [],
   "source": [
    "fig, ax = plt.subplots() # Create the figure and axes object\n",
    "\n",
    "# Plot the first x and y axes:\n",
    "rw.plot(x = 'pos', y = 'af', ax = ax) "
   ]
  },
  {
   "cell_type": "code",
   "execution_count": 13,
   "id": "0cfc0d23-0333-4036-bc91-2d65910321b6",
   "metadata": {},
   "outputs": [],
   "source": [
    "AD_df = pd.DataFrame(AD[:])\n",
    "AD_df.columns=[\"AD\"]"
   ]
  },
  {
   "cell_type": "code",
   "execution_count": 23,
   "id": "717ce682-0dcb-465d-bbdb-955391ccc5cf",
   "metadata": {},
   "outputs": [],
   "source": [
    "df=AD_df[0:1]"
   ]
  },
  {
   "cell_type": "code",
   "execution_count": null,
   "id": "6c096195-0cae-40b7-aeaf-418b17313153",
   "metadata": {},
   "outputs": [],
   "source": [
    "split_AD = pd.DataFrame(AD_df['AD'].tolist(AD_df['AD'].tolist()))"
   ]
  },
  {
   "cell_type": "code",
   "execution_count": null,
   "id": "a2dbc4e1-d2d6-4d73-a625-cf522d11c466",
   "metadata": {},
   "outputs": [],
   "source": [
    "print(type(AD))"
   ]
  },
  {
   "cell_type": "code",
   "execution_count": null,
   "id": "ddb202fb-201c-4e62-90bd-595b69818e4e",
   "metadata": {
    "tags": []
   },
   "outputs": [],
   "source": [
    "df=pd.DataFrame.from_records(AD_df[0:1])"
   ]
  },
  {
   "cell_type": "code",
   "execution_count": null,
   "id": "0f46e448-2bbe-4a0e-b81f-d00f76ca5150",
   "metadata": {},
   "outputs": [],
   "source": [
    "pd.DataFrame.head(df)"
   ]
  },
  {
   "cell_type": "code",
   "execution_count": 24,
   "id": "1f6534a2-1f2b-4a63-85eb-365fbd6bc6c4",
   "metadata": {},
   "outputs": [],
   "source": [
    "a=np.ravel(df)"
   ]
  },
  {
   "cell_type": "code",
   "execution_count": null,
   "id": "911a0e76-7aec-4d8d-aa14-a86e18f60ff2",
   "metadata": {},
   "outputs": [],
   "source": [
    "regular_list = df[3:4]\n",
    "flat_list = list(np.concatenate(test).flat)\n"
   ]
  },
  {
   "cell_type": "code",
   "execution_count": null,
   "id": "ae1ff464-9045-4fb9-89d8-068e6731e9d8",
   "metadata": {},
   "outputs": [],
   "source": [
    "pd.DataFrame.head(regular_list)\n"
   ]
  },
  {
   "cell_type": "code",
   "execution_count": 27,
   "id": "c946f1a9-6536-4f4c-8687-a543a4efc18c",
   "metadata": {},
   "outputs": [
    {
     "name": "stdout",
     "output_type": "stream",
     "text": [
      "[([[14, 10, -1, -1], [15,  5, -1, -1], [27,  7, -1, -1], [28, 30, -1, -1], [25, 19, -1, -1], [16, 19, -1, -1], [12, 11, -1, -1], [23, 34, -1, -1], [24, 25, -1, -1], [28, 19, -1, -1], [18, 20, -1, -1], [12, 12, -1, -1]],)]\n"
     ]
    }
   ],
   "source": [
    "print(np.ravel(a))"
   ]
  },
  {
   "cell_type": "code",
   "execution_count": null,
   "id": "15ac2e5b-1dd7-4981-8b81-9c5ca62dfd55",
   "metadata": {},
   "outputs": [],
   "source": [
    "test=AD_df[4:5]"
   ]
  },
  {
   "cell_type": "code",
   "execution_count": 12,
   "id": "4f92b6ea-42f9-4151-a468-d2d821f1e2a3",
   "metadata": {},
   "outputs": [
    {
     "data": {
      "text/html": [
       "<div class=\"allel allel-DisplayAsTable\"><span>&lt;VariantTable shape=(2810127,) dtype=(numpy.record, [('AD', '&lt;i2', (12, 4))])&gt;</span><table><thead><tr><th></th><th style=\"text-align: center\">AD</th></tr></thead><tbody><tr><th style=\"text-align: center; background-color: white; border-right: 1px solid black; \">0</th><td style=\"text-align: center\">[[14 10 -1 -1]\n",
       " [15  5 -1 -1]\n",
       " [27  7 -1 -1]\n",
       " [28 30 -1 -1]\n",
       " [25 19 -1 -1]\n",
       " [16 19 -1 -1]\n",
       " [12 11 -1 -1]\n",
       " [23 34 -1 -1]\n",
       " [24 25 -1 -1]\n",
       " [28 19 -1 -1]\n",
       " [18 20 -1 -1]\n",
       " [12 12 -1 -1]]</td></tr><tr><th style=\"text-align: center; background-color: white; border-right: 1px solid black; \">1</th><td style=\"text-align: center\">[[34  4 -1 -1]\n",
       " [26  5 -1 -1]\n",
       " [44 13 -1 -1]\n",
       " [94 18 -1 -1]\n",
       " [48 21 -1 -1]\n",
       " [38 11 -1 -1]\n",
       " [27 11 -1 -1]\n",
       " [69 33 -1 -1]\n",
       " [54 19 -1 -1]\n",
       " [69 17 -1 -1]\n",
       " [56  9 -1 -1]\n",
       " [38  8 -1 -1]]</td></tr><tr><th style=\"text-align: center; background-color: white; border-right: 1px solid black; \">2</th><td style=\"text-align: center\">[[29 15 -1 -1]\n",
       " [20  7 -1 -1]\n",
       " [38 15 -1 -1]\n",
       " [85 29 -1 -1]\n",
       " [42 20 -1 -1]\n",
       " [44 21 -1 -1]\n",
       " [32 10 -1 -1]\n",
       " [73 36 -1 -1]\n",
       " [65 22 -1 -1]\n",
       " [69 22 -1 -1]\n",
       " [57  9 -1 -1]\n",
       " [40  6 -1 -1]]</td></tr><tr><th style=\"text-align: center; background-color: white; border-right: 1px solid black; \">...</th><td style=\"text-align: center\" colspan=\"2\">...</td></tr><tr><th style=\"text-align: center; background-color: white; border-right: 1px solid black; \">2810124</th><td style=\"text-align: center\">[[ 8  0 -1 -1]\n",
       " [13  0 -1 -1]\n",
       " [12  0 -1 -1]\n",
       " [15  0 -1 -1]\n",
       " [15  0 -1 -1]\n",
       " [ 9  0 -1 -1]\n",
       " [ 7  4 -1 -1]\n",
       " [16  0 -1 -1]\n",
       " [13  0 -1 -1]\n",
       " [18  0 -1 -1]\n",
       " [12  0 -1 -1]\n",
       " [ 6  0 -1 -1]]</td></tr><tr><th style=\"text-align: center; background-color: white; border-right: 1px solid black; \">2810125</th><td style=\"text-align: center\">[[18  0 -1 -1]\n",
       " [17  0 -1 -1]\n",
       " [ 7  9 -1 -1]\n",
       " [29  0 -1 -1]\n",
       " [20  0 -1 -1]\n",
       " [32  0 -1 -1]\n",
       " [ 9  0 -1 -1]\n",
       " [25  0 -1 -1]\n",
       " [25 13 -1 -1]\n",
       " [15 19 -1 -1]\n",
       " [29  0 -1 -1]\n",
       " [16  0 -1 -1]]</td></tr><tr><th style=\"text-align: center; background-color: white; border-right: 1px solid black; \">2810126</th><td style=\"text-align: center\">[[12 14 -1 -1]\n",
       " [25  0 -1 -1]\n",
       " [31  0 -1 -1]\n",
       " [72  0 -1 -1]\n",
       " [42  0 -1 -1]\n",
       " [35  0 -1 -1]\n",
       " [32  0 -1 -1]\n",
       " [50  0 -1 -1]\n",
       " [49  0 -1 -1]\n",
       " [43  0 -1 -1]\n",
       " [39  0 -1 -1]\n",
       " [20  0 -1 -1]]</td></tr></tbody></table></div>"
      ],
      "text/plain": [
       "<VariantTable shape=(2810127,) dtype=(numpy.record, [('AD', '<i2', (12, 4))])>\n",
       "[([[14, 10, -1, -1], [15,  5, -1, -1], [27,  7, -1, -1], [28, 30, -1, -1], [25, 19, -1, -1], [16, 19, -1, -1], [12, 11, -1, -1], [23, 34, -1, -1], [24, 25, -1, -1], [28, 19, -1, -1], [18, 20, -1, -1], [12, 12, -1, -1]],)\n",
       " ([[34,  4, -1, -1], [26,  5, -1, -1], [44, 13, -1, -1], [94, 18, -1, -1], [48, 21, -1, -1], [38, 11, -1, -1], [27, 11, -1, -1], [69, 33, -1, -1], [54, 19, -1, -1], [69, 17, -1, -1], [56,  9, -1, -1], [38,  8, -1, -1]],)\n",
       " ([[29, 15, -1, -1], [20,  7, -1, -1], [38, 15, -1, -1], [85, 29, -1, -1], [42, 20, -1, -1], [44, 21, -1, -1], [32, 10, -1, -1], [73, 36, -1, -1], [65, 22, -1, -1], [69, 22, -1, -1], [57,  9, -1, -1], [40,  6, -1, -1]],)\n",
       " ...\n",
       " ([[ 8,  0, -1, -1], [13,  0, -1, -1], [12,  0, -1, -1], [15,  0, -1, -1], [15,  0, -1, -1], [ 9,  0, -1, -1], [ 7,  4, -1, -1], [16,  0, -1, -1], [13,  0, -1, -1], [18,  0, -1, -1], [12,  0, -1, -1], [ 6,  0, -1, -1]],)\n",
       " ([[18,  0, -1, -1], [17,  0, -1, -1], [ 7,  9, -1, -1], [29,  0, -1, -1], [20,  0, -1, -1], [32,  0, -1, -1], [ 9,  0, -1, -1], [25,  0, -1, -1], [25, 13, -1, -1], [15, 19, -1, -1], [29,  0, -1, -1], [16,  0, -1, -1]],)\n",
       " ([[12, 14, -1, -1], [25,  0, -1, -1], [31,  0, -1, -1], [72,  0, -1, -1], [42,  0, -1, -1], [35,  0, -1, -1], [32,  0, -1, -1], [50,  0, -1, -1], [49,  0, -1, -1], [43,  0, -1, -1], [39,  0, -1, -1], [20,  0, -1, -1]],)]"
      ]
     },
     "execution_count": 12,
     "metadata": {},
     "output_type": "execute_result"
    }
   ],
   "source": []
  },
  {
   "cell_type": "code",
   "execution_count": null,
   "id": "58061038-220b-4731-a82d-d5d16e1a8c58",
   "metadata": {},
   "outputs": [],
   "source": [
    "np.dtype(callset)"
   ]
  },
  {
   "cell_type": "code",
   "execution_count": null,
   "id": "7c42d1dd-001f-45d8-a593-cfd77366193f",
   "metadata": {},
   "outputs": [],
   "source": []
  },
  {
   "cell_type": "code",
   "execution_count": null,
   "id": "bb482ba4-f85b-4afe-9234-dabfbfde14f2",
   "metadata": {},
   "outputs": [],
   "source": []
  },
  {
   "cell_type": "code",
   "execution_count": null,
   "id": "aac2b6f8-7a9f-4403-8425-02ff0d2a1b84",
   "metadata": {},
   "outputs": [],
   "source": []
  },
  {
   "cell_type": "code",
   "execution_count": null,
   "id": "7ea775d9-79a1-40a8-b3b0-9bfc85994948",
   "metadata": {},
   "outputs": [],
   "source": []
  }
 ],
 "metadata": {
  "kernelspec": {
   "display_name": "Python 3 (ipykernel)",
   "language": "python",
   "name": "python3"
  },
  "language_info": {
   "codemirror_mode": {
    "name": "ipython",
    "version": 3
   },
   "file_extension": ".py",
   "mimetype": "text/x-python",
   "name": "python",
   "nbconvert_exporter": "python",
   "pygments_lexer": "ipython3",
   "version": "3.7.3"
  },
  "toc-autonumbering": false,
  "toc-showmarkdowntxt": true
 },
 "nbformat": 4,
 "nbformat_minor": 5
}

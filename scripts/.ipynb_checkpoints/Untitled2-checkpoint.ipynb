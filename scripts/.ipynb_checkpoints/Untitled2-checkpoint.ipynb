{
 "cells": [
  {
   "cell_type": "markdown",
   "id": "c3c62d64-0aee-474d-9774-a08cae1e8742",
   "metadata": {},
   "source": [
    "## Exploring VCF with sckit-allel ##"
   ]
  },
  {
   "cell_type": "code",
   "execution_count": 100,
   "id": "b8537460-4815-4dbd-b9a8-a8d4386556e1",
   "metadata": {},
   "outputs": [
    {
     "name": "stdout",
     "output_type": "stream",
     "text": [
      "scikit-allel 1.3.5\n"
     ]
    }
   ],
   "source": [
    "# Import Libraries\n",
    "import numpy as np\n",
    "import scipy\n",
    "import pandas as pd\n",
    "import matplotlib as mpl\n",
    "import matplotlib.pyplot as plt\n",
    "%matplotlib inline\n",
    "import seaborn as sns\n",
    "sns.set_style('white')\n",
    "sns.set_style('ticks')\n",
    "sns.set_context('notebook')\n",
    "import h5py\n",
    "# pip install scikit-allel\n",
    "import allel; print('scikit-allel', allel.__version__)"
   ]
  },
  {
   "cell_type": "code",
   "execution_count": null,
   "id": "34c4aa52-e8f8-4d32-a957-2d333e8a4e48",
   "metadata": {},
   "outputs": [],
   "source": [
    "narw_vcf = allel.read_vcf('C:/Users/c_cro/Documents/PhD/RightWhale/WGS/vcf_exploration/merged_narw_all_scaffold.vcf.gz', fields=['variants/*','calldata/*'])"
   ]
  },
  {
   "cell_type": "code",
   "execution_count": null,
   "id": "086474d6-1d12-4360-b51a-bbf4d703b9f3",
   "metadata": {},
   "outputs": [],
   "source": [
    "narw_hdf5 = allel.vcf_to_hdf5('C:/Users/c_cro/Documents/PhD/RightWhale/WGS/vcf_exploration/merged_narw_all_scaffold.vcf.gz', \n",
    "                              'C:/Users/c_cro/Documents/PhD/RightWhale/WGS/vcf_exploration/narw_hdf5_test',\n",
    "                              fields=['variants/*','calldata/*'])"
   ]
  },
  {
   "cell_type": "code",
   "execution_count": 2,
   "id": "7aa49cda-522d-4b9a-9586-6fa4204016ef",
   "metadata": {},
   "outputs": [],
   "source": [
    "masked_narw_hdf5 = allel.vcf_to_hdf5('C:/Users/c_cro/Documents/PhD/RightWhale/WGS/vcf_exploration/out.vcf.gz', \n",
    "                              'C:/Users/c_cro/Documents/PhD/RightWhale/WGS/vcf_exploration/masked_narw_hdf5_test',\n",
    "                              fields=['variants/*','calldata/*'])"
   ]
  },
  {
   "cell_type": "code",
   "execution_count": 101,
   "id": "4ff02b1a-3531-4b41-9fd3-734cce7da1c5",
   "metadata": {},
   "outputs": [
    {
     "data": {
      "text/plain": [
       "<HDF5 file \"masked_narw_hdf5_test\" (mode r)>"
      ]
     },
     "execution_count": 101,
     "metadata": {},
     "output_type": "execute_result"
    }
   ],
   "source": [
    "callset = h5py.File('C:/Users/c_cro/Documents/PhD/RightWhale/WGS/vcf_exploration/narw_hdf5_test', mode='r')\n",
    "callset\n",
    "masked_callset = h5py.File('C:/Users/c_cro/Documents/PhD/RightWhale/WGS/vcf_exploration/masked_narw_hdf5_test', mode='r')\n",
    "masked_callset"
   ]
  },
  {
   "cell_type": "code",
   "execution_count": 4,
   "id": "8a2c9fe7-4ac6-4410-96ab-c2e7ed75121d",
   "metadata": {},
   "outputs": [
    {
     "data": {
      "text/html": [
       "<div class=\"allel allel-DisplayAsTable\"><span>&lt;VariantChunkedTable shape=(5620253,) dtype=[('POS', '&lt;i4'), ('REF', 'O'), ('ALT', 'O', (3,)), ('DP', '&lt;i4'), ('MQ', '&lt;f4'), ('QD', '&lt;f4'), ('AF', '&lt;f4', (3,)), ('AN', '&lt;i4')]\n",
       "   nbytes=343.0M cbytes=95.3M cratio=3.6\n",
       "   values=h5py._hl.group.Group&gt;</span><table><thead><tr><th></th><th style=\"text-align: center\">POS</th><th style=\"text-align: center\">REF</th><th style=\"text-align: center\">ALT</th><th style=\"text-align: center\">DP</th><th style=\"text-align: center\">MQ</th><th style=\"text-align: center\">QD</th><th style=\"text-align: center\">AF</th><th style=\"text-align: center\">AN</th></tr></thead><tbody><tr><th style=\"text-align: center; background-color: white; border-right: 1px solid black; \">0</th><td style=\"text-align: center\">47</td><td style=\"text-align: center\">G</td><td style=\"text-align: center\">['C' '' '']</td><td style=\"text-align: center\">1009</td><td style=\"text-align: center\">58.08</td><td style=\"text-align: center\">16.86</td><td style=\"text-align: center\">[0.5 nan nan]</td><td style=\"text-align: center\">24</td></tr><tr><th style=\"text-align: center; background-color: white; border-right: 1px solid black; \">1</th><td style=\"text-align: center\">60</td><td style=\"text-align: center\">G</td><td style=\"text-align: center\">['A' '' '']</td><td style=\"text-align: center\">1170</td><td style=\"text-align: center\">58.3</td><td style=\"text-align: center\">6.5</td><td style=\"text-align: center\">[0.5 nan nan]</td><td style=\"text-align: center\">24</td></tr><tr><th style=\"text-align: center; background-color: white; border-right: 1px solid black; \">2</th><td style=\"text-align: center\">104</td><td style=\"text-align: center\">T</td><td style=\"text-align: center\">['C' '' '']</td><td style=\"text-align: center\">1667</td><td style=\"text-align: center\">58.91</td><td style=\"text-align: center\">4.86</td><td style=\"text-align: center\">[0.5 nan nan]</td><td style=\"text-align: center\">24</td></tr><tr><th style=\"text-align: center; background-color: white; border-right: 1px solid black; \">...</th><td style=\"text-align: center\" colspan=\"9\">...</td></tr><tr><th style=\"text-align: center; background-color: white; border-right: 1px solid black; \">5620250</th><td style=\"text-align: center\">562160</td><td style=\"text-align: center\">C</td><td style=\"text-align: center\">['T' '' '']</td><td style=\"text-align: center\">289</td><td style=\"text-align: center\">52.55</td><td style=\"text-align: center\">13.88</td><td style=\"text-align: center\">[0.125   nan   nan]</td><td style=\"text-align: center\">24</td></tr><tr><th style=\"text-align: center; background-color: white; border-right: 1px solid black; \">5620251</th><td style=\"text-align: center\">1100108</td><td style=\"text-align: center\">T</td><td style=\"text-align: center\">['C' '' '']</td><td style=\"text-align: center\">36</td><td style=\"text-align: center\">40.0</td><td style=\"text-align: center\">15.0</td><td style=\"text-align: center\">[0.042   nan   nan]</td><td style=\"text-align: center\">24</td></tr><tr><th style=\"text-align: center; background-color: white; border-right: 1px solid black; \">5620252</th><td style=\"text-align: center\">1100538</td><td style=\"text-align: center\">T</td><td style=\"text-align: center\">['TA' '' '']</td><td style=\"text-align: center\">480</td><td style=\"text-align: center\">53.4</td><td style=\"text-align: center\">10.57</td><td style=\"text-align: center\">[0.042   nan   nan]</td><td style=\"text-align: center\">24</td></tr></tbody></table></div>"
      ],
      "text/plain": [
       "<VariantChunkedTable shape=(5620253,) dtype=[('POS', '<i4'), ('REF', 'O'), ('ALT', 'O', (3,)), ('DP', '<i4'), ('MQ', '<f4'), ('QD', '<f4'), ('AF', '<f4', (3,)), ('AN', '<i4')]\n",
       "   nbytes=343.0M cbytes=95.3M cratio=3.6\n",
       "   values=h5py._hl.group.Group>"
      ]
     },
     "execution_count": 4,
     "metadata": {},
     "output_type": "execute_result"
    }
   ],
   "source": [
    "variants = allel.VariantChunkedTable(callset['variants'],\n",
    "            names=['POS', 'REF', 'ALT', 'DP', 'MQ', 'QD','AF','AN'])\n",
    "variants"
   ]
  },
  {
   "cell_type": "code",
   "execution_count": 5,
   "id": "d9f42e5d-ea54-4de7-9c6f-39d27c8e5655",
   "metadata": {},
   "outputs": [
    {
     "data": {
      "text/plain": [
       "array([1009, 1170, 1667, ...,  289,   36,  480])"
      ]
     },
     "execution_count": 5,
     "metadata": {},
     "output_type": "execute_result"
    }
   ],
   "source": [
    "dp=variants['DP'][:]\n",
    "dp"
   ]
  },
  {
   "cell_type": "code",
   "execution_count": 6,
   "id": "fe8f25f8-d290-46b3-92bc-1c4e5ba7864e",
   "metadata": {},
   "outputs": [
    {
     "name": "stdout",
     "output_type": "stream",
     "text": [
      "<class 'numpy.ndarray'>\n"
     ]
    }
   ],
   "source": [
    "qd=variants['QD'][:]\n",
    "print(type(qd))"
   ]
  },
  {
   "cell_type": "code",
   "execution_count": 7,
   "id": "dd4ad26c-b7d1-439a-b51d-9aa658ede47d",
   "metadata": {},
   "outputs": [],
   "source": [
    "mq=variants['MQ'][:]"
   ]
  },
  {
   "cell_type": "code",
   "execution_count": 8,
   "id": "8d282965-cd54-4140-9a13-c0f8cb7359b2",
   "metadata": {},
   "outputs": [
    {
     "data": {
      "text/plain": [
       "array([     47,      60,     104, ...,  562160, 1100108, 1100538])"
      ]
     },
     "execution_count": 8,
     "metadata": {},
     "output_type": "execute_result"
    }
   ],
   "source": [
    "pos = variants['POS'][:]\n",
    "pos"
   ]
  },
  {
   "cell_type": "code",
   "execution_count": 90,
   "id": "6e0ec7ac-77e3-4cea-95e0-247e427c6af7",
   "metadata": {},
   "outputs": [],
   "source": [
    "AD = allel.VariantChunkedTable(callset['calldata'],\n",
    "            names=['AD'])\n",
    "test_AD = np.transpose(np.transpose(AD[0:1][0][0])[0:2])"
   ]
  },
  {
   "cell_type": "code",
   "execution_count": 99,
   "id": "39edf59c-7f9f-4cff-8d9b-9086e3f3550c",
   "metadata": {
    "tags": []
   },
   "outputs": [
    {
     "name": "stdout",
     "output_type": "stream",
     "text": [
      "[14]\n",
      "[10]\n"
     ]
    },
    {
     "ename": "TypeError",
     "evalue": "unsupported operand type(s) for +: 'NoneType' and 'NoneType'",
     "output_type": "error",
     "traceback": [
      "\u001b[1;31m---------------------------------------------------------------------------\u001b[0m",
      "\u001b[1;31mTypeError\u001b[0m                                 Traceback (most recent call last)",
      "\u001b[1;32m~\\AppData\\Local\\Temp\\ipykernel_14116\\2078592844.py\u001b[0m in \u001b[0;36m<module>\u001b[1;34m\u001b[0m\n\u001b[0;32m      1\u001b[0m \u001b[0mad_split\u001b[0m \u001b[1;33m=\u001b[0m \u001b[0mnp\u001b[0m\u001b[1;33m.\u001b[0m\u001b[0mhsplit\u001b[0m\u001b[1;33m(\u001b[0m\u001b[0mtest_AD\u001b[0m\u001b[1;33m,\u001b[0m\u001b[1;36m2\u001b[0m\u001b[1;33m)\u001b[0m\u001b[1;33m\u001b[0m\u001b[1;33m\u001b[0m\u001b[0m\n\u001b[1;32m----> 2\u001b[1;33m \u001b[0mprint\u001b[0m\u001b[1;33m(\u001b[0m\u001b[0mad_split\u001b[0m\u001b[1;33m[\u001b[0m\u001b[1;36m0\u001b[0m\u001b[1;33m]\u001b[0m\u001b[1;33m[\u001b[0m\u001b[1;36m0\u001b[0m\u001b[1;33m]\u001b[0m\u001b[1;33m)\u001b[0m\u001b[1;33m+\u001b[0m\u001b[0mprint\u001b[0m\u001b[1;33m(\u001b[0m\u001b[0mad_split\u001b[0m\u001b[1;33m[\u001b[0m\u001b[1;36m1\u001b[0m\u001b[1;33m]\u001b[0m\u001b[1;33m[\u001b[0m\u001b[1;36m0\u001b[0m\u001b[1;33m]\u001b[0m\u001b[1;33m)\u001b[0m\u001b[1;33m\u001b[0m\u001b[1;33m\u001b[0m\u001b[0m\n\u001b[0m",
      "\u001b[1;31mTypeError\u001b[0m: unsupported operand type(s) for +: 'NoneType' and 'NoneType'"
     ]
    }
   ],
   "source": [
    "ad_split = np.hsplit(test_AD,2)\n",
    "ad_split[0][0]\n",
    "ad_split[1][0]\n",
    "\n",
    "elemnt 1 divided by the sum of these. Repeat for 12 elements, repeat for all rows."
   ]
  },
  {
   "cell_type": "code",
   "execution_count": 24,
   "id": "54276972-dd11-40db-b08e-4d8ed1ebd2a1",
   "metadata": {},
   "outputs": [
    {
     "data": {
      "text/plain": [
       "[0.5, 0.5, 0.5]"
      ]
     },
     "execution_count": 24,
     "metadata": {},
     "output_type": "execute_result"
    }
   ],
   "source": [
    "af = variants['AF'][:]\n",
    "af_trim = [item[0] for item in af]\n",
    "af_trim[0:3]"
   ]
  },
  {
   "cell_type": "code",
   "execution_count": 20,
   "id": "6dd942c0-7167-49b2-b226-a93873ea0417",
   "metadata": {},
   "outputs": [
    {
     "name": "stdout",
     "output_type": "stream",
     "text": [
      "<class 'list'>\n"
     ]
    }
   ],
   "source": [
    "print(type(af_trim))\n",
    "df_af = pd.DataFrame(af_trim)\n",
    "df_af.to_csv(\"df_af.csv\", index=False)"
   ]
  },
  {
   "cell_type": "code",
   "execution_count": 25,
   "id": "6603c557-3f22-48a0-8057-05284276410c",
   "metadata": {},
   "outputs": [
    {
     "name": "stdout",
     "output_type": "stream",
     "text": [
      "<class 'pandas.core.frame.DataFrame'>\n"
     ]
    }
   ],
   "source": [
    "my_array = np.array([dp,mq,qd,pos,af_trim])\n",
    "info_rw = pd.DataFrame(my_array)\n",
    "rw = info_rw.transpose()\n",
    "rw.columns=[\"dp\",\"mq\",\"qd\",\"pos\",\"af\"]\n",
    "print(type(info_rw))"
   ]
  },
  {
   "cell_type": "code",
   "execution_count": 21,
   "id": "0cc143aa-3294-41a7-80a6-71d700a099fa",
   "metadata": {},
   "outputs": [],
   "source": [
    "def plot_windowed_variant_density(pos, window_size, title=None):\n",
    "    \n",
    "    # setup windows \n",
    "    bins = np.arange(0, pos.max(), window_size)\n",
    "    \n",
    "    # use window midpoints as x coordinate\n",
    "    x = (bins[1:] + bins[:-1])/2\n",
    "    \n",
    "    # compute variant density in each window\n",
    "    h, _ = np.histogram(pos, bins=bins)\n",
    "    y = h / window_size\n",
    "    \n",
    "    # plot\n",
    "    fig, ax = plt.subplots(figsize=(12, 3))\n",
    "    sns.despine(ax=ax, offset=10)\n",
    "    ax.plot(x, y)\n",
    "    ax.set_xlabel('Chromosome position (bp)')\n",
    "    ax.set_ylabel('Variant density (bp$^{-1}$)')\n",
    "    if title:\n",
    "        ax.set_title(title)"
   ]
  },
  {
   "cell_type": "code",
   "execution_count": 22,
   "id": "d10c1169-19fa-410c-8a12-3e42878d5eaf",
   "metadata": {},
   "outputs": [
    {
     "data": {
      "image/png": "[encoded data removed]",
      "text/plain": [
       "<Figure size 864x216 with 1 Axes>"
      ]
     },
     "metadata": {},
     "output_type": "display_data"
    }
   ],
   "source": [
    "plot_windowed_variant_density(pos, window_size=100000, title='Raw variant density')"
   ]
  },
  {
   "cell_type": "markdown",
   "id": "5a3f8647-3d82-49a7-b5c3-30f2b117dcb1",
   "metadata": {
    "tags": []
   },
   "source": [
    "## To run in R ##"
   ]
  },
  {
   "cell_type": "code",
   "execution_count": 34,
   "id": "b7bc1e3e-6c90-41da-b5e1-f8337b364dc0",
   "metadata": {},
   "outputs": [
    {
     "data": {
      "text/plain": [
       "<AxesSubplot:>"
      ]
     },
     "execution_count": 34,
     "metadata": {},
     "output_type": "execute_result"
    },
    {
     "data": {
      "image/png": "[encoded data removed]",
      "text/plain": [
       "<Figure size 432x288 with 2 Axes>"
      ]
     },
     "metadata": {},
     "output_type": "display_data"
    }
   ],
   "source": [
    "fig, ax = plt.subplots() # Create the figure and axes object\n",
    "\n",
    "# Plot the first x and y axes:\n",
    "rw.plot(x = 'pos', y = 'dp', ax = ax) \n",
    "# Plot the second x and y axes. By secondary_y = True a second y-axis is requested:\n",
    "# (see https://pandas.pydata.org/pandas-docs/stable/reference/api/pandas.DataFrame.plot.html for details)\n",
    "rw.plot(x = 'pos', y = 'mq', ax = ax, secondary_y = True) "
   ]
  },
  {
   "cell_type": "code",
   "execution_count": 35,
   "id": "71415965-da21-4d7e-b622-1e911fa942fd",
   "metadata": {},
   "outputs": [
    {
     "data": {
      "text/plain": [
       "<AxesSubplot:xlabel='pos'>"
      ]
     },
     "execution_count": 35,
     "metadata": {},
     "output_type": "execute_result"
    },
    {
     "data": {
      "image/png": "[encoded data removed]",
      "text/plain": [
       "<Figure size 432x288 with 1 Axes>"
      ]
     },
     "metadata": {},
     "output_type": "display_data"
    }
   ],
   "source": [
    "fig, ax = plt.subplots() # Create the figure and axes object\n",
    "\n",
    "# Plot the first x and y axes:\n",
    "rw.plot(x = 'pos', y = 'dp', ax = ax) "
   ]
  },
  {
   "cell_type": "code",
   "execution_count": 44,
   "id": "cd9f9fe2-28a4-470c-92c9-8d86384d7079",
   "metadata": {},
   "outputs": [
    {
     "name": "stdout",
     "output_type": "stream",
     "text": [
      "depth std dev = 1704.5993625028377\n",
      "depth mean = 544.2276902836936\n",
      "depth max to keep = 3953.4264152893693\n"
     ]
    }
   ],
   "source": [
    "print(\"depth std dev =\", dp.std())\n",
    "print(\"depth mean =\", dp.mean())\n",
    "print(\"depth max to keep =\", dp.mean()+dp.std()+dp.std())"
   ]
  },
  {
   "cell_type": "code",
   "execution_count": null,
   "id": "0b390608-6f45-4bf1-ad99-80044fb31455",
   "metadata": {},
   "outputs": [],
   "source": []
  },
  {
   "cell_type": "code",
   "execution_count": 7,
   "id": "7babf046-1258-4f81-bf41-0ae3dc5b0fdb",
   "metadata": {},
   "outputs": [],
   "source": [
    "masked_variants = allel.VariantChunkedTable(masked_callset['variants'],\n",
    "            names=['POS', 'REF', 'ALT', 'DP', 'MQ', 'QD','AF','AN'])\n",
    "masked_dp=masked_variants['DP'][:]\n",
    "masked_mq=masked_variants['MQ'][:]\n",
    "masked_qd=masked_variants['QD'][:]\n",
    "masked_pos=masked_variants['POS'][:]"
   ]
  },
  {
   "cell_type": "code",
   "execution_count": 8,
   "id": "3c7ae08d-0e35-440b-8233-46c3763e53a9",
   "metadata": {},
   "outputs": [
    {
     "name": "stdout",
     "output_type": "stream",
     "text": [
      "<class 'pandas.core.frame.DataFrame'>\n"
     ]
    }
   ],
   "source": [
    "masked_array = np.array([masked_dp,masked_mq,masked_qd,masked_pos])\n",
    "masked_rw = pd.DataFrame(masked_array)\n",
    "rw_masked = masked_rw.transpose()\n",
    "rw_masked.columns=[\"masked_dp\",\"masked_mq\",\"masked_qd\",\"masked_pos\"]\n",
    "print(type(masked_rw))"
   ]
  },
  {
   "cell_type": "code",
   "execution_count": 9,
   "id": "f5d20c83-0bcd-4b4c-914f-3c1376fd5f53",
   "metadata": {},
   "outputs": [
    {
     "data": {
      "text/plain": [
       "<AxesSubplot:xlabel='masked_pos'>"
      ]
     },
     "execution_count": 9,
     "metadata": {},
     "output_type": "execute_result"
    },
    {
     "data": {
      "image/png": "[encoded data removed]",
      "text/plain": [
       "<Figure size 432x288 with 1 Axes>"
      ]
     },
     "metadata": {},
     "output_type": "display_data"
    }
   ],
   "source": [
    "fig, ax = plt.subplots() # Create the figure and axes object\n",
    "\n",
    "# Plot the first x and y axes:\n",
    "rw_masked.plot(x = 'masked_pos', y = 'masked_dp', ax = ax) "
   ]
  },
  {
   "cell_type": "code",
   "execution_count": 26,
   "id": "1eefe729-f7fd-4bd2-bebc-a06a59762c86",
   "metadata": {
    "tags": []
   },
   "outputs": [
    {
     "data": {
      "text/plain": [
       "<AxesSubplot:xlabel='pos'>"
      ]
     },
     "execution_count": 26,
     "metadata": {},
     "output_type": "execute_result"
    },
    {
     "data": {
      "image/png": "[encoded data removed]",
      "text/plain": [
       "<Figure size 432x288 with 1 Axes>"
      ]
     },
     "metadata": {},
     "output_type": "display_data"
    }
   ],
   "source": [
    "fig, ax = plt.subplots() # Create the figure and axes object\n",
    "\n",
    "# Plot the first x and y axes:\n",
    "rw.plot(x = 'pos', y = 'af', ax = ax) "
   ]
  },
  {
   "cell_type": "code",
   "execution_count": 24,
   "id": "0cfc0d23-0333-4036-bc91-2d65910321b6",
   "metadata": {},
   "outputs": [],
   "source": [
    "AD_df = pd.DataFrame(AD[:])\n",
    "AD_df.columns=[\"AD\"]"
   ]
  },
  {
   "cell_type": "code",
   "execution_count": 25,
   "id": "717ce682-0dcb-465d-bbdb-955391ccc5cf",
   "metadata": {},
   "outputs": [
    {
     "data": {
      "text/html": [
       "<div>\n",
       "<style scoped>\n",
       "    .dataframe tbody tr th:only-of-type {\n",
       "        vertical-align: middle;\n",
       "    }\n",
       "\n",
       "    .dataframe tbody tr th {\n",
       "        vertical-align: top;\n",
       "    }\n",
       "\n",
       "    .dataframe thead th {\n",
       "        text-align: right;\n",
       "    }\n",
       "</style>\n",
       "<table border=\"1\" class=\"dataframe\">\n",
       "  <thead>\n",
       "    <tr style=\"text-align: right;\">\n",
       "      <th></th>\n",
       "      <th>AD</th>\n",
       "    </tr>\n",
       "  </thead>\n",
       "  <tbody>\n",
       "    <tr>\n",
       "      <th>0</th>\n",
       "      <td>[[[14, 10, -1, -1], [15, 5, -1, -1], [27, 7, -...</td>\n",
       "    </tr>\n",
       "    <tr>\n",
       "      <th>1</th>\n",
       "      <td>[[[21, 6, -1, -1], [19, 3, -1, -1], [30, 7, -1...</td>\n",
       "    </tr>\n",
       "  </tbody>\n",
       "</table>\n",
       "</div>"
      ],
      "text/plain": [
       "                                                  AD\n",
       "0  [[[14, 10, -1, -1], [15, 5, -1, -1], [27, 7, -...\n",
       "1  [[[21, 6, -1, -1], [19, 3, -1, -1], [30, 7, -1..."
      ]
     },
     "execution_count": 25,
     "metadata": {},
     "output_type": "execute_result"
    }
   ],
   "source": [
    "AD_df[0:2]"
   ]
  },
  {
   "cell_type": "code",
   "execution_count": 15,
   "id": "6c096195-0cae-40b7-aeaf-418b17313153",
   "metadata": {},
   "outputs": [
    {
     "ename": "TypeError",
     "evalue": "tolist() takes 1 positional argument but 2 were given",
     "output_type": "error",
     "traceback": [
      "\u001b[1;31m---------------------------------------------------------------------------\u001b[0m",
      "\u001b[1;31mTypeError\u001b[0m                                 Traceback (most recent call last)",
      "\u001b[1;32m~\\AppData\\Local\\Temp\\ipykernel_14116\\3986267979.py\u001b[0m in \u001b[0;36m<module>\u001b[1;34m\u001b[0m\n\u001b[1;32m----> 1\u001b[1;33m \u001b[0msplit_AD\u001b[0m \u001b[1;33m=\u001b[0m \u001b[0mpd\u001b[0m\u001b[1;33m.\u001b[0m\u001b[0mDataFrame\u001b[0m\u001b[1;33m(\u001b[0m\u001b[0mAD_df\u001b[0m\u001b[1;33m[\u001b[0m\u001b[1;34m'AD'\u001b[0m\u001b[1;33m]\u001b[0m\u001b[1;33m.\u001b[0m\u001b[0mtolist\u001b[0m\u001b[1;33m(\u001b[0m\u001b[0mAD_df\u001b[0m\u001b[1;33m[\u001b[0m\u001b[1;34m'AD'\u001b[0m\u001b[1;33m]\u001b[0m\u001b[1;33m.\u001b[0m\u001b[0mtolist\u001b[0m\u001b[1;33m(\u001b[0m\u001b[1;33m)\u001b[0m\u001b[1;33m)\u001b[0m\u001b[1;33m)\u001b[0m\u001b[1;33m\u001b[0m\u001b[1;33m\u001b[0m\u001b[0m\n\u001b[0m",
      "\u001b[1;31mTypeError\u001b[0m: tolist() takes 1 positional argument but 2 were given"
     ]
    }
   ],
   "source": [
    "split_AD = pd.DataFrame(AD_df['AD'].tolist(AD_df['AD'].tolist()))"
   ]
  },
  {
   "cell_type": "code",
   "execution_count": 31,
   "id": "a2dbc4e1-d2d6-4d73-a625-cf522d11c466",
   "metadata": {},
   "outputs": [
    {
     "name": "stdout",
     "output_type": "stream",
     "text": [
      "<class 'allel.model.chunked.VariantChunkedTable'>\n"
     ]
    }
   ],
   "source": [
    "print(type(AD))"
   ]
  },
  {
   "cell_type": "code",
   "execution_count": 36,
   "id": "ddb202fb-201c-4e62-90bd-595b69818e4e",
   "metadata": {
    "tags": []
   },
   "outputs": [],
   "source": [
    "df=pd.DataFrame.from_records(AD_df[0:1])"
   ]
  },
  {
   "cell_type": "code",
   "execution_count": 59,
   "id": "0f46e448-2bbe-4a0e-b81f-d00f76ca5150",
   "metadata": {},
   "outputs": [
    {
     "data": {
      "text/html": [
       "<div>\n",
       "<style scoped>\n",
       "    .dataframe tbody tr th:only-of-type {\n",
       "        vertical-align: middle;\n",
       "    }\n",
       "\n",
       "    .dataframe tbody tr th {\n",
       "        vertical-align: top;\n",
       "    }\n",
       "\n",
       "    .dataframe thead th {\n",
       "        text-align: right;\n",
       "    }\n",
       "</style>\n",
       "<table border=\"1\" class=\"dataframe\">\n",
       "  <thead>\n",
       "    <tr style=\"text-align: right;\">\n",
       "      <th></th>\n",
       "      <th>AD</th>\n",
       "    </tr>\n",
       "  </thead>\n",
       "  <tbody>\n",
       "    <tr>\n",
       "      <th>0</th>\n",
       "      <td>[[[14, 10, -1, -1], [15, 5, -1, -1], [27, 7, -...</td>\n",
       "    </tr>\n",
       "  </tbody>\n",
       "</table>\n",
       "</div>"
      ],
      "text/plain": [
       "                                                  AD\n",
       "0  [[[14, 10, -1, -1], [15, 5, -1, -1], [27, 7, -..."
      ]
     },
     "execution_count": 59,
     "metadata": {},
     "output_type": "execute_result"
    }
   ],
   "source": [
    "pd.DataFrame.head(df)"
   ]
  },
  {
   "cell_type": "code",
   "execution_count": 77,
   "id": "1f6534a2-1f2b-4a63-85eb-365fbd6bc6c4",
   "metadata": {},
   "outputs": [
    {
     "data": {
      "text/html": [
       "<div>\n",
       "<style scoped>\n",
       "    .dataframe tbody tr th:only-of-type {\n",
       "        vertical-align: middle;\n",
       "    }\n",
       "\n",
       "    .dataframe tbody tr th {\n",
       "        vertical-align: top;\n",
       "    }\n",
       "\n",
       "    .dataframe thead th {\n",
       "        text-align: right;\n",
       "    }\n",
       "</style>\n",
       "<table border=\"1\" class=\"dataframe\">\n",
       "  <thead>\n",
       "    <tr style=\"text-align: right;\">\n",
       "      <th></th>\n",
       "      <th>AD</th>\n",
       "    </tr>\n",
       "  </thead>\n",
       "  <tbody>\n",
       "    <tr>\n",
       "      <th>0</th>\n",
       "      <td>[[[14, 10, -1, -1], [15, 5, -1, -1], [27, 7, -...</td>\n",
       "    </tr>\n",
       "  </tbody>\n",
       "</table>\n",
       "</div>"
      ],
      "text/plain": [
       "                                                  AD\n",
       "0  [[[14, 10, -1, -1], [15, 5, -1, -1], [27, 7, -..."
      ]
     },
     "execution_count": 77,
     "metadata": {},
     "output_type": "execute_result"
    }
   ],
   "source": [
    "df"
   ]
  },
  {
   "cell_type": "code",
   "execution_count": 74,
   "id": "911a0e76-7aec-4d8d-aa14-a86e18f60ff2",
   "metadata": {},
   "outputs": [
    {
     "ename": "KeyError",
     "evalue": "0",
     "output_type": "error",
     "traceback": [
      "\u001b[1;31m---------------------------------------------------------------------------\u001b[0m",
      "\u001b[1;31mKeyError\u001b[0m                                  Traceback (most recent call last)",
      "\u001b[1;32mC:\\ProgramData\\Anaconda3\\lib\\site-packages\\pandas\\core\\indexes\\base.py\u001b[0m in \u001b[0;36mget_loc\u001b[1;34m(self, key, method, tolerance)\u001b[0m\n\u001b[0;32m   3360\u001b[0m             \u001b[1;32mtry\u001b[0m\u001b[1;33m:\u001b[0m\u001b[1;33m\u001b[0m\u001b[1;33m\u001b[0m\u001b[0m\n\u001b[1;32m-> 3361\u001b[1;33m                 \u001b[1;32mreturn\u001b[0m \u001b[0mself\u001b[0m\u001b[1;33m.\u001b[0m\u001b[0m_engine\u001b[0m\u001b[1;33m.\u001b[0m\u001b[0mget_loc\u001b[0m\u001b[1;33m(\u001b[0m\u001b[0mcasted_key\u001b[0m\u001b[1;33m)\u001b[0m\u001b[1;33m\u001b[0m\u001b[1;33m\u001b[0m\u001b[0m\n\u001b[0m\u001b[0;32m   3362\u001b[0m             \u001b[1;32mexcept\u001b[0m \u001b[0mKeyError\u001b[0m \u001b[1;32mas\u001b[0m \u001b[0merr\u001b[0m\u001b[1;33m:\u001b[0m\u001b[1;33m\u001b[0m\u001b[1;33m\u001b[0m\u001b[0m\n",
      "\u001b[1;32mC:\\ProgramData\\Anaconda3\\lib\\site-packages\\pandas\\_libs\\index.pyx\u001b[0m in \u001b[0;36mpandas._libs.index.IndexEngine.get_loc\u001b[1;34m()\u001b[0m\n",
      "\u001b[1;32mC:\\ProgramData\\Anaconda3\\lib\\site-packages\\pandas\\_libs\\index.pyx\u001b[0m in \u001b[0;36mpandas._libs.index.IndexEngine.get_loc\u001b[1;34m()\u001b[0m\n",
      "\u001b[1;32mpandas\\_libs\\hashtable_class_helper.pxi\u001b[0m in \u001b[0;36mpandas._libs.hashtable.PyObjectHashTable.get_item\u001b[1;34m()\u001b[0m\n",
      "\u001b[1;32mpandas\\_libs\\hashtable_class_helper.pxi\u001b[0m in \u001b[0;36mpandas._libs.hashtable.PyObjectHashTable.get_item\u001b[1;34m()\u001b[0m\n",
      "\u001b[1;31mKeyError\u001b[0m: 0",
      "\nThe above exception was the direct cause of the following exception:\n",
      "\u001b[1;31mKeyError\u001b[0m                                  Traceback (most recent call last)",
      "\u001b[1;32m~\\AppData\\Local\\Temp\\ipykernel_14116\\677924208.py\u001b[0m in \u001b[0;36m<module>\u001b[1;34m\u001b[0m\n\u001b[0;32m      1\u001b[0m \u001b[0mregular_list\u001b[0m \u001b[1;33m=\u001b[0m \u001b[0mdf\u001b[0m\u001b[1;33m[\u001b[0m\u001b[1;36m3\u001b[0m\u001b[1;33m:\u001b[0m\u001b[1;36m4\u001b[0m\u001b[1;33m]\u001b[0m\u001b[1;33m\u001b[0m\u001b[1;33m\u001b[0m\u001b[0m\n\u001b[1;32m----> 2\u001b[1;33m \u001b[0mflat_list\u001b[0m \u001b[1;33m=\u001b[0m \u001b[0mlist\u001b[0m\u001b[1;33m(\u001b[0m\u001b[0mnp\u001b[0m\u001b[1;33m.\u001b[0m\u001b[0mconcatenate\u001b[0m\u001b[1;33m(\u001b[0m\u001b[0mtest\u001b[0m\u001b[1;33m)\u001b[0m\u001b[1;33m.\u001b[0m\u001b[0mflat\u001b[0m\u001b[1;33m)\u001b[0m\u001b[1;33m\u001b[0m\u001b[1;33m\u001b[0m\u001b[0m\n\u001b[0m",
      "\u001b[1;32m<__array_function__ internals>\u001b[0m in \u001b[0;36mconcatenate\u001b[1;34m(*args, **kwargs)\u001b[0m\n",
      "\u001b[1;32mC:\\ProgramData\\Anaconda3\\lib\\site-packages\\pandas\\core\\frame.py\u001b[0m in \u001b[0;36m__getitem__\u001b[1;34m(self, key)\u001b[0m\n\u001b[0;32m   3456\u001b[0m             \u001b[1;32mif\u001b[0m \u001b[0mself\u001b[0m\u001b[1;33m.\u001b[0m\u001b[0mcolumns\u001b[0m\u001b[1;33m.\u001b[0m\u001b[0mnlevels\u001b[0m \u001b[1;33m>\u001b[0m \u001b[1;36m1\u001b[0m\u001b[1;33m:\u001b[0m\u001b[1;33m\u001b[0m\u001b[1;33m\u001b[0m\u001b[0m\n\u001b[0;32m   3457\u001b[0m                 \u001b[1;32mreturn\u001b[0m \u001b[0mself\u001b[0m\u001b[1;33m.\u001b[0m\u001b[0m_getitem_multilevel\u001b[0m\u001b[1;33m(\u001b[0m\u001b[0mkey\u001b[0m\u001b[1;33m)\u001b[0m\u001b[1;33m\u001b[0m\u001b[1;33m\u001b[0m\u001b[0m\n\u001b[1;32m-> 3458\u001b[1;33m             \u001b[0mindexer\u001b[0m \u001b[1;33m=\u001b[0m \u001b[0mself\u001b[0m\u001b[1;33m.\u001b[0m\u001b[0mcolumns\u001b[0m\u001b[1;33m.\u001b[0m\u001b[0mget_loc\u001b[0m\u001b[1;33m(\u001b[0m\u001b[0mkey\u001b[0m\u001b[1;33m)\u001b[0m\u001b[1;33m\u001b[0m\u001b[1;33m\u001b[0m\u001b[0m\n\u001b[0m\u001b[0;32m   3459\u001b[0m             \u001b[1;32mif\u001b[0m \u001b[0mis_integer\u001b[0m\u001b[1;33m(\u001b[0m\u001b[0mindexer\u001b[0m\u001b[1;33m)\u001b[0m\u001b[1;33m:\u001b[0m\u001b[1;33m\u001b[0m\u001b[1;33m\u001b[0m\u001b[0m\n\u001b[0;32m   3460\u001b[0m                 \u001b[0mindexer\u001b[0m \u001b[1;33m=\u001b[0m \u001b[1;33m[\u001b[0m\u001b[0mindexer\u001b[0m\u001b[1;33m]\u001b[0m\u001b[1;33m\u001b[0m\u001b[1;33m\u001b[0m\u001b[0m\n",
      "\u001b[1;32mC:\\ProgramData\\Anaconda3\\lib\\site-packages\\pandas\\core\\indexes\\base.py\u001b[0m in \u001b[0;36mget_loc\u001b[1;34m(self, key, method, tolerance)\u001b[0m\n\u001b[0;32m   3361\u001b[0m                 \u001b[1;32mreturn\u001b[0m \u001b[0mself\u001b[0m\u001b[1;33m.\u001b[0m\u001b[0m_engine\u001b[0m\u001b[1;33m.\u001b[0m\u001b[0mget_loc\u001b[0m\u001b[1;33m(\u001b[0m\u001b[0mcasted_key\u001b[0m\u001b[1;33m)\u001b[0m\u001b[1;33m\u001b[0m\u001b[1;33m\u001b[0m\u001b[0m\n\u001b[0;32m   3362\u001b[0m             \u001b[1;32mexcept\u001b[0m \u001b[0mKeyError\u001b[0m \u001b[1;32mas\u001b[0m \u001b[0merr\u001b[0m\u001b[1;33m:\u001b[0m\u001b[1;33m\u001b[0m\u001b[1;33m\u001b[0m\u001b[0m\n\u001b[1;32m-> 3363\u001b[1;33m                 \u001b[1;32mraise\u001b[0m \u001b[0mKeyError\u001b[0m\u001b[1;33m(\u001b[0m\u001b[0mkey\u001b[0m\u001b[1;33m)\u001b[0m \u001b[1;32mfrom\u001b[0m \u001b[0merr\u001b[0m\u001b[1;33m\u001b[0m\u001b[1;33m\u001b[0m\u001b[0m\n\u001b[0m\u001b[0;32m   3364\u001b[0m \u001b[1;33m\u001b[0m\u001b[0m\n\u001b[0;32m   3365\u001b[0m         \u001b[1;32mif\u001b[0m \u001b[0mis_scalar\u001b[0m\u001b[1;33m(\u001b[0m\u001b[0mkey\u001b[0m\u001b[1;33m)\u001b[0m \u001b[1;32mand\u001b[0m \u001b[0misna\u001b[0m\u001b[1;33m(\u001b[0m\u001b[0mkey\u001b[0m\u001b[1;33m)\u001b[0m \u001b[1;32mand\u001b[0m \u001b[1;32mnot\u001b[0m \u001b[0mself\u001b[0m\u001b[1;33m.\u001b[0m\u001b[0mhasnans\u001b[0m\u001b[1;33m:\u001b[0m\u001b[1;33m\u001b[0m\u001b[1;33m\u001b[0m\u001b[0m\n",
      "\u001b[1;31mKeyError\u001b[0m: 0"
     ]
    }
   ],
   "source": [
    "regular_list = df[3:4]\n",
    "flat_list = list(np.concatenate(test).flat)\n"
   ]
  },
  {
   "cell_type": "code",
   "execution_count": 50,
   "id": "ae1ff464-9045-4fb9-89d8-068e6731e9d8",
   "metadata": {},
   "outputs": [
    {
     "ename": "AttributeError",
     "evalue": "'numpy.flatiter' object has no attribute 'iloc'",
     "output_type": "error",
     "traceback": [
      "\u001b[1;31m---------------------------------------------------------------------------\u001b[0m",
      "\u001b[1;31mAttributeError\u001b[0m                            Traceback (most recent call last)",
      "\u001b[1;32m~\\AppData\\Local\\Temp\\ipykernel_14116\\1717512404.py\u001b[0m in \u001b[0;36m<module>\u001b[1;34m\u001b[0m\n\u001b[1;32m----> 1\u001b[1;33m \u001b[0mpd\u001b[0m\u001b[1;33m.\u001b[0m\u001b[0mDataFrame\u001b[0m\u001b[1;33m.\u001b[0m\u001b[0mhead\u001b[0m\u001b[1;33m(\u001b[0m\u001b[0mregular_list\u001b[0m\u001b[1;33m)\u001b[0m\u001b[1;33m\u001b[0m\u001b[1;33m\u001b[0m\u001b[0m\n\u001b[0m",
      "\u001b[1;32mC:\\ProgramData\\Anaconda3\\lib\\site-packages\\pandas\\core\\generic.py\u001b[0m in \u001b[0;36mhead\u001b[1;34m(self, n)\u001b[0m\n\u001b[0;32m   5071\u001b[0m         \u001b[1;36m5\u001b[0m     \u001b[0mparrot\u001b[0m\u001b[1;33m\u001b[0m\u001b[1;33m\u001b[0m\u001b[0m\n\u001b[0;32m   5072\u001b[0m         \"\"\"\n\u001b[1;32m-> 5073\u001b[1;33m         \u001b[1;32mreturn\u001b[0m \u001b[0mself\u001b[0m\u001b[1;33m.\u001b[0m\u001b[0miloc\u001b[0m\u001b[1;33m[\u001b[0m\u001b[1;33m:\u001b[0m\u001b[0mn\u001b[0m\u001b[1;33m]\u001b[0m\u001b[1;33m\u001b[0m\u001b[1;33m\u001b[0m\u001b[0m\n\u001b[0m\u001b[0;32m   5074\u001b[0m \u001b[1;33m\u001b[0m\u001b[0m\n\u001b[0;32m   5075\u001b[0m     \u001b[1;33m@\u001b[0m\u001b[0mfinal\u001b[0m\u001b[1;33m\u001b[0m\u001b[1;33m\u001b[0m\u001b[0m\n",
      "\u001b[1;31mAttributeError\u001b[0m: 'numpy.flatiter' object has no attribute 'iloc'"
     ]
    }
   ],
   "source": [
    "pd.DataFrame.head(regular_list)\n"
   ]
  },
  {
   "cell_type": "code",
   "execution_count": 76,
   "id": "c946f1a9-6536-4f4c-8687-a543a4efc18c",
   "metadata": {},
   "outputs": [
    {
     "data": {
      "text/plain": [
       "['A', 'D']"
      ]
     },
     "execution_count": 76,
     "metadata": {},
     "output_type": "execute_result"
    }
   ],
   "source": [
    "flat_list"
   ]
  },
  {
   "cell_type": "code",
   "execution_count": 72,
   "id": "15ac2e5b-1dd7-4981-8b81-9c5ca62dfd55",
   "metadata": {},
   "outputs": [],
   "source": [
    "test=AD_df[4:5]"
   ]
  },
  {
   "cell_type": "code",
   "execution_count": 73,
   "id": "4f92b6ea-42f9-4151-a468-d2d821f1e2a3",
   "metadata": {},
   "outputs": [
    {
     "data": {
      "text/html": [
       "<div>\n",
       "<style scoped>\n",
       "    .dataframe tbody tr th:only-of-type {\n",
       "        vertical-align: middle;\n",
       "    }\n",
       "\n",
       "    .dataframe tbody tr th {\n",
       "        vertical-align: top;\n",
       "    }\n",
       "\n",
       "    .dataframe thead th {\n",
       "        text-align: right;\n",
       "    }\n",
       "</style>\n",
       "<table border=\"1\" class=\"dataframe\">\n",
       "  <thead>\n",
       "    <tr style=\"text-align: right;\">\n",
       "      <th></th>\n",
       "      <th>AD</th>\n",
       "    </tr>\n",
       "  </thead>\n",
       "  <tbody>\n",
       "    <tr>\n",
       "      <th>4</th>\n",
       "      <td>[[[29, 15, -1, -1], [20, 7, -1, -1], [38, 15, ...</td>\n",
       "    </tr>\n",
       "  </tbody>\n",
       "</table>\n",
       "</div>"
      ],
      "text/plain": [
       "                                                  AD\n",
       "4  [[[29, 15, -1, -1], [20, 7, -1, -1], [38, 15, ..."
      ]
     },
     "execution_count": 73,
     "metadata": {},
     "output_type": "execute_result"
    }
   ],
   "source": [
    "test"
   ]
  },
  {
   "cell_type": "code",
   "execution_count": 106,
   "id": "58061038-220b-4731-a82d-d5d16e1a8c58",
   "metadata": {},
   "outputs": [
    {
     "ename": "TypeError",
     "evalue": "Cannot interpret '<HDF5 file \"narw_hdf5_test\" (mode r)>' as a data type",
     "output_type": "error",
     "traceback": [
      "\u001b[1;31m---------------------------------------------------------------------------\u001b[0m",
      "\u001b[1;31mTypeError\u001b[0m                                 Traceback (most recent call last)",
      "\u001b[1;32m~\\AppData\\Local\\Temp\\ipykernel_14116\\1741076077.py\u001b[0m in \u001b[0;36m<module>\u001b[1;34m\u001b[0m\n\u001b[1;32m----> 1\u001b[1;33m \u001b[0mnp\u001b[0m\u001b[1;33m.\u001b[0m\u001b[0mdtype\u001b[0m\u001b[1;33m(\u001b[0m\u001b[0mcallset\u001b[0m\u001b[1;33m)\u001b[0m\u001b[1;33m\u001b[0m\u001b[1;33m\u001b[0m\u001b[0m\n\u001b[0m",
      "\u001b[1;31mTypeError\u001b[0m: Cannot interpret '<HDF5 file \"narw_hdf5_test\" (mode r)>' as a data type"
     ]
    }
   ],
   "source": [
    "np.dtype(callset)"
   ]
  },
  {
   "cell_type": "code",
   "execution_count": null,
   "id": "7c42d1dd-001f-45d8-a593-cfd77366193f",
   "metadata": {},
   "outputs": [],
   "source": []
  },
  {
   "cell_type": "code",
   "execution_count": null,
   "id": "bb482ba4-f85b-4afe-9234-dabfbfde14f2",
   "metadata": {},
   "outputs": [],
   "source": []
  },
  {
   "cell_type": "code",
   "execution_count": null,
   "id": "aac2b6f8-7a9f-4403-8425-02ff0d2a1b84",
   "metadata": {},
   "outputs": [],
   "source": []
  },
  {
   "cell_type": "code",
   "execution_count": null,
   "id": "7ea775d9-79a1-40a8-b3b0-9bfc85994948",
   "metadata": {},
   "outputs": [],
   "source": []
  }
 ],
 "metadata": {
  "kernelspec": {
   "display_name": "Python 3 (ipykernel)",
   "language": "python",
   "name": "python3"
  },
  "language_info": {
   "codemirror_mode": {
    "name": "ipython",
    "version": 3
   },
   "file_extension": ".py",
   "mimetype": "text/x-python",
   "name": "python",
   "nbconvert_exporter": "python",
   "pygments_lexer": "ipython3",
   "version": "3.7.3"
  },
  "toc-autonumbering": false,
  "toc-showmarkdowntxt": true
 },
 "nbformat": 4,
 "nbformat_minor": 5
}
